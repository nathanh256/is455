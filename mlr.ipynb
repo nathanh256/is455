{
 "cells": [
  {
   "cell_type": "code",
   "execution_count": null,
   "metadata": {},
   "outputs": [],
   "source": [
    "import pandas as pd\n",
    "import numpy as np\n",
    "import statsmodels.api as sm\n",
    "import matplotlib.pyplot as plt\n",
    "import datetime"
   ]
  },
  {
   "cell_type": "code",
   "execution_count": null,
   "metadata": {},
   "outputs": [],
   "source": [
    "def featurize(df, label):\n",
    "  # Set label and features\n",
    "  y = df[label]\n",
    "  X = df.astype(float).assign(const=1)  # drop all categorical features and allow y-intercept to vary\n",
    "  X = X.drop(columns=[label])\n",
    "  return y, X\n",
    "\n",
    "def mlr(df_pre_copy, label, print_results=True):\n",
    "  df = df_pre_copy.copy()\n",
    "  \n",
    "  # Set label and features\n",
    "  y = df[label]\n",
    "  X = df.astype(float).assign(const=1)  # drop all categorical features and allow y-intercept to vary\n",
    "  X = X.drop(columns=[label])\n",
    "\n",
    "  # Run the multiple linear regression model\n",
    "  model = sm.OLS(y, X)\n",
    "  results = model.fit()\n",
    "\n",
    "  # View results\n",
    "  if(print_results): print(results.summary())\n",
    "  return results\n",
    "\n",
    "def results_summary(df, results, print_results=True):\n",
    "\n",
    "  # Calculate Values\n",
    "  r2 = results.rsquared\n",
    "  r2_adj = results.rsquared_adj\n",
    "  rmse = np.sqrt(sum((results.resid**2))/len(results.resid))\n",
    "  mae = np.mean(abs(results.resid))\n",
    "  mean = df['retweets'].mean()\n",
    "\n",
    "  # Print Values\n",
    "  if print_results:\n",
    "    print(r2)\n",
    "    print(r2_adj)\n",
    "    print(rmse)\n",
    "    print(mae)\n",
    "    print(mean)\n",
    "  \n",
    "  return r2, r2_adj, rmse, mae, mean"
   ]
  },
  {
   "cell_type": "code",
   "execution_count": null,
   "metadata": {},
   "outputs": [],
   "source": [
    "def vif(df_pre_copy, label):\n",
    "  df = df_pre_copy.copy()\n",
    "\n",
    "  import pandas as pd\n",
    "  from sklearn.linear_model import LinearRegression\n",
    "\n",
    "  df.drop(inplace=True, columns=[label])\n",
    "\n",
    "  # initialize dictionaries\n",
    "  vif_dict, tolerance_dict = {}, {}\n",
    "\n",
    "  try: df.drop(columns=['const'], inplace=True)\n",
    "  except: pass\n",
    "\n",
    "  # form input data for each exogenous variable\n",
    "  for col in df:\n",
    "    y = df[col]\n",
    "    X = df.drop(columns=[col])\n",
    "    \n",
    "    # extract r-squared from the fit\n",
    "    r_squared = LinearRegression().fit(X, y).score(X, y)\n",
    "\n",
    "    # calculate VIF\n",
    "    if r_squared < 1: # Prevent division by zero runtime error\n",
    "      vif = 1/(1 - r_squared) \n",
    "    else:\n",
    "      vif = 100\n",
    "    vif_dict[col] = vif\n",
    "\n",
    "    # calculate tolerance\n",
    "    tolerance = 1 - r_squared\n",
    "    tolerance_dict[col] = tolerance\n",
    "\n",
    "    # generate the DataFrame to return\n",
    "    df_output = pd.DataFrame({'VIF': vif_dict, 'Tolerance': tolerance_dict})\n",
    "\n",
    "  return df_output.sort_values(by=['VIF'], ascending=False)"
   ]
  },
  {
   "cell_type": "code",
   "execution_count": null,
   "metadata": {},
   "outputs": [],
   "source": [
    "def remove_high_p(df, label, r2_diff_max=.01, print_results=False):\n",
    "  r2_results = []\n",
    "  df_copy = df.copy()  \n",
    "\n",
    "  #Initial Test\n",
    "  r2_results.append(mlr(df_copy, label, False))\n",
    "  results = r2_results[-1]\n",
    "  \n",
    "\n",
    "  while (results.rsquared - results.rsquared_adj > r2_diff_max):\n",
    "    drop_col = r2_results[-1].pvalues.sort_values(ascending=False).index[0]\n",
    "    df_copy.drop(inplace=True, columns=[drop_col])\n",
    "    r2_results.append(mlr(df_copy, label, False))\n",
    "    results = r2_results[-1]\n",
    "\n",
    "  df_copy[label] = df[label]\n",
    "  return df_copy, r2_results"
   ]
  },
  {
   "cell_type": "code",
   "execution_count": null,
   "metadata": {},
   "outputs": [],
   "source": [
    "df = pd.read_csv(\"noReplies-clean.csv\")"
   ]
  },
  {
   "cell_type": "code",
   "execution_count": null,
   "metadata": {},
   "outputs": [],
   "source": [
    "results = mlr(df, \"interaction_score\")\n",
    "df, results_list = remove_high_p(df, \"interaction_score\")"
   ]
  },
  {
   "cell_type": "code",
   "execution_count": null,
   "metadata": {},
   "outputs": [],
   "source": [
    "results = mlr(df, \"interaction_score\")"
   ]
  }
 ],
 "metadata": {
  "language_info": {
   "name": "python"
  },
  "orig_nbformat": 4
 },
 "nbformat": 4,
 "nbformat_minor": 2
}
