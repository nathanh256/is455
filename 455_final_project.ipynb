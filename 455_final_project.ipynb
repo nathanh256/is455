{
  "cells": [
    {
      "cell_type": "code",
      "execution_count": null,
      "metadata": {
        "id": "UekkzUwDavf2"
      },
      "outputs": [],
      "source": [
        "# ### Mount Drive\n",
        "\n",
        "# from google.colab import drive\n",
        "# drive.mount('/content/drive/')"
      ]
    },
    {
      "cell_type": "code",
      "execution_count": null,
      "metadata": {
        "id": "HfSN7hb4aphV"
      },
      "outputs": [],
      "source": [
        "### Imports\n",
        "\n",
        "import os, requests, json\n",
        "import pandas as pd\n",
        "import numpy as np\n",
        "import statsmodels.api as sm\n",
        "import matplotlib.pyplot as plt\n",
        "import datetime\n",
        "import seaborn as sns\n",
        "from sklearn import preprocessing\n",
        "import sys"
      ]
    },
    {
      "cell_type": "code",
      "execution_count": null,
      "metadata": {
        "id": "2k1VI619aNhd"
      },
      "outputs": [],
      "source": [
        "bearer_token = \"AAAAAAAAAAAAAAAAAAAAAGXdTwEAAAAAr2%2BC9Wi6GHR8%2Bk%2FiDL2AIHaC1I8%3D86fg9nIXAt2MFp0QP1sXU0q1VFKHAGaD1da68qG4X0glvGSh4D\"\n",
        "\n",
        "def response_health(r):\n",
        "  if r.status_code != 200:\n",
        "    raise Exception(\n",
        "    \"Request returned an error: {} {}\".format(\n",
        "      r.status_code, r.text\n",
        "    )\n",
        "  )\n",
        "    \n",
        "def bearer_oauth(r):\n",
        "  r.headers[\"Authorization\"] = f\"Bearer {bearer_token}\"\n",
        "  return r\n",
        "\n",
        "def send_request(url, params=None):\n",
        "  '''Send Request (url) with optional params. Returns json'''\n",
        "  if params == None:\n",
        "    response = requests.request(\"GET\", url, auth=bearer_oauth)\n",
        "  else:\n",
        "    response = requests.request(\"GET\", url, auth=bearer_oauth, params=params)\n",
        "  print(\"Request response status: \", response.status_code)\n",
        "  response_health(response)\n",
        "  return response.json()"
      ]
    },
    {
      "cell_type": "code",
      "execution_count": null,
      "metadata": {
        "id": "VvapD2RKjCuA"
      },
      "outputs": [],
      "source": [
        "def get_user_features(name):\n",
        "  import pandas as pd\n",
        "  user_json = send_request(f\"https://api.twitter.com/2/users/by/username/{name}?user.fields=public_metrics,username,id,verified\")\n",
        "  data = {}\n",
        "  data['verified'] = user_json[\"data\"]['verified']\n",
        "  data['id'] = user_json[\"data\"]['id']\n",
        "  data['name'] = user_json[\"data\"]['name']\n",
        "  data['username'] = user_json[\"data\"]['username']\n",
        "  data['followers_count'] = user_json[\"data\"]['public_metrics']['followers_count']\n",
        "  data['following_count'] = user_json[\"data\"]['public_metrics']['following_count']\n",
        "  data['tweet_count'] = user_json[\"data\"]['public_metrics']['tweet_count']\n",
        "  data['listed_count'] = user_json[\"data\"]['public_metrics']['listed_count']\n",
        "  return data"
      ]
    },
    {
      "cell_type": "code",
      "execution_count": null,
      "metadata": {
        "id": "v50S5mMxvoZ6"
      },
      "outputs": [],
      "source": [
        "def get_user_id(name):\n",
        "  import pandas as pd\n",
        "  user_json = send_request(f\"https://api.twitter.com/2/users/by/username/{name}?user.fields=public_metrics,username,id,verified\")\n",
        "\n",
        "  return user_json"
      ]
    },
    {
      "cell_type": "code",
      "execution_count": null,
      "metadata": {
        "id": "cBRiEBATn6Kc"
      },
      "outputs": [],
      "source": [
        "# def get_tweets_user(id)"
      ]
    },
    {
      "cell_type": "code",
      "execution_count": null,
      "metadata": {
        "id": "qwGZb0eTnvrM"
      },
      "outputs": [],
      "source": []
    }
  ],
  "metadata": {
    "colab": {
      "collapsed_sections": [],
      "name": "455-final-project.ipynb",
      "provenance": []
    },
    "kernelspec": {
      "display_name": "Python 3",
      "name": "python3"
    },
    "language_info": {
      "name": "python"
    }
  },
  "nbformat": 4,
  "nbformat_minor": 0
}
